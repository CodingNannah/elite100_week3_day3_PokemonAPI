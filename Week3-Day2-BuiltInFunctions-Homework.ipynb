{
 "cells": [
  {
   "cell_type": "markdown",
   "metadata": {},
   "source": [
    "# Map, Filter, Reduce, Lambda & Recursion"
   ]
  },
  {
   "cell_type": "markdown",
   "metadata": {},
   "source": [
    "## Tasks Today:\n",
    "\n",
    "1) <b>Lambda Functions</b> <br>\n",
    " &nbsp;&nbsp;&nbsp;&nbsp; a) Syntax <br>\n",
    " &nbsp;&nbsp;&nbsp;&nbsp; b) Saving to a Variable <br>\n",
    " &nbsp;&nbsp;&nbsp;&nbsp; c) Multiple Inputs <br>\n",
    " &nbsp;&nbsp;&nbsp;&nbsp; d) Passing a Lambda into a Function <br>\n",
    " &nbsp;&nbsp;&nbsp;&nbsp; e) Returning a Lambda from a Function <br>\n",
    " &nbsp;&nbsp;&nbsp;&nbsp; f) In-Class Exercise #1 <br>\n",
    "2) <b>Map</b> <br>\n",
    " &nbsp;&nbsp;&nbsp;&nbsp; a) Syntax <br>\n",
    " &nbsp;&nbsp;&nbsp;&nbsp; b) Using Lambda's with Map <br>\n",
    " &nbsp;&nbsp;&nbsp;&nbsp; c) In-Class Exercise #2 <br>\n",
    "3) <b>Filter</b> <br>\n",
    " &nbsp;&nbsp;&nbsp;&nbsp; a) Syntax <br>\n",
    " &nbsp;&nbsp;&nbsp;&nbsp; b) Using Lambda's with Filter <br>\n",
    " &nbsp;&nbsp;&nbsp;&nbsp; c) In-Class Exercise #3 <br>\n",
    "4) <b>Reduce</b> <br>\n",
    " &nbsp;&nbsp;&nbsp;&nbsp; a) Syntax <br>\n",
    " &nbsp;&nbsp;&nbsp;&nbsp; b) Using Lambda's with Reduce <br>\n",
    " &nbsp;&nbsp;&nbsp;&nbsp; c) In-Class Exercise #4 <br>\n",
    "5) <b>Recursion</b> <br>\n",
    " &nbsp;&nbsp;&nbsp;&nbsp; a) Implementing a Base <br>\n",
    " &nbsp;&nbsp;&nbsp;&nbsp; b) Writing a Factorial Function <br>\n",
    " &nbsp;&nbsp;&nbsp;&nbsp; c) In-Class Exercise #5 <br>\n",
    "6) <b>Generators & Iterators</b> <br>\n",
    " &nbsp;&nbsp;&nbsp;&nbsp; a) Yield Keyword <br>\n",
    " &nbsp;&nbsp;&nbsp;&nbsp; b) Inifinite Generator <br>\n",
    " &nbsp;&nbsp;&nbsp;&nbsp; c) In-Class Exercise #6 <br>\n",
    "7) <b>Exercises</b> <br>\n",
    " &nbsp;&nbsp;&nbsp;&nbsp; a) Exercise #1 - Filtering Empty Strings <br>\n",
    " &nbsp;&nbsp;&nbsp;&nbsp; b) Exercise #2 - Sorting with Last Name <br>\n",
    " &nbsp;&nbsp;&nbsp;&nbsp; c) Exercise #3 - Conversion to Farhenheit <br>\n",
    " &nbsp;&nbsp;&nbsp;&nbsp; d) Exercise #4 - Fibonacci Sequence <br>"
   ]
  },
  {
   "cell_type": "markdown",
   "metadata": {},
   "source": [
    "## Lambda Functions <br>\n",
    "<p>Lambda functions... or \"Anonymous Functions\" are referring to inline functions with no name. The keyword lambda denotes the no name function, and executes within a single line. Without saving it to a variable; however, it is not able to be used, unless passed in either as a paramater or within list comprehension.<br>Written as \"(keyword lambda) (one or more inputs) (colon) (function to be executed)\"</p>"
   ]
  },
  {
   "cell_type": "markdown",
   "metadata": {},
   "source": [
    "#### Syntax"
   ]
  },
  {
   "cell_type": "code",
   "execution_count": null,
   "metadata": {},
   "outputs": [],
   "source": [
    "def add_two(x):\n",
    "    return x+2\n",
    "\n",
    "print(add_two(3))"
   ]
  },
  {
   "cell_type": "code",
   "execution_count": null,
   "metadata": {
    "scrolled": true
   },
   "outputs": [],
   "source": [
    "print(add_two)"
   ]
  },
  {
   "cell_type": "code",
   "execution_count": null,
   "metadata": {},
   "outputs": [],
   "source": [
    "# Lambda is a function (def) with no name\n",
    "\n",
    "# doesn't give it a name\n",
    "# passes to another function"
   ]
  },
  {
   "cell_type": "code",
   "execution_count": null,
   "metadata": {},
   "outputs": [],
   "source": [
    "lambda x: x+2"
   ]
  },
  {
   "cell_type": "code",
   "execution_count": null,
   "metadata": {},
   "outputs": [],
   "source": [
    "(lambda x: x+2)(3)"
   ]
  },
  {
   "cell_type": "markdown",
   "metadata": {},
   "source": [
    "#### Saving to a Variable"
   ]
  },
  {
   "cell_type": "code",
   "execution_count": null,
   "metadata": {},
   "outputs": [],
   "source": [
    "f = lambda x, y: x+y+2\n",
    "\n",
    "#like above: return x+y+2\n",
    "\n",
    "f(3,2)"
   ]
  },
  {
   "cell_type": "markdown",
   "metadata": {},
   "source": [
    "#### Multiple Inputs"
   ]
  },
  {
   "cell_type": "code",
   "execution_count": null,
   "metadata": {},
   "outputs": [],
   "source": [
    "(lambda x,y,z: x*y*z)(1,2,3)"
   ]
  },
  {
   "cell_type": "code",
   "execution_count": null,
   "metadata": {},
   "outputs": [],
   "source": [
    "i=10\n",
    "j=5\n",
    "k=2\n",
    "(lambda x,y,z: x*y*z)(i,j,k)"
   ]
  },
  {
   "cell_type": "code",
   "execution_count": null,
   "metadata": {},
   "outputs": [],
   "source": [
    "# helpful when needing a function only for a short while\n",
    "# if = use ternary\n",
    "# for loop = use a list comp or map, filter, reduce\n",
    "# cook part of map, filter, reduce is ALWAYS a lambda function"
   ]
  },
  {
   "cell_type": "markdown",
   "metadata": {},
   "source": [
    "#### Passing a Lambda into a Function"
   ]
  },
  {
   "cell_type": "code",
   "execution_count": null,
   "metadata": {},
   "outputs": [],
   "source": [
    "def do_math(func, num):\n",
    "    return func(num)\n",
    "\n",
    "do_math(lambda x: x*x,4) #lambda function (lambda x: x*x)"
   ]
  },
  {
   "cell_type": "markdown",
   "metadata": {},
   "source": [
    "#### Returning a Lambda from a Function"
   ]
  },
  {
   "cell_type": "code",
   "execution_count": null,
   "metadata": {},
   "outputs": [],
   "source": [
    "def return_func():\n",
    "    def squared(num):\n",
    "        return num*2\n",
    "    return squared\n",
    "\n",
    "return_func() # this return function is the squared function\n",
    "\n",
    "return_func()(3)\n",
    "\n",
    "squared = return_func() \n",
    "squared(3)"
   ]
  },
  {
   "cell_type": "code",
   "execution_count": null,
   "metadata": {},
   "outputs": [],
   "source": [
    "def return_func()\n",
    "    return lambda num: num**2\n",
    "\n",
    "return_func()(3)"
   ]
  },
  {
   "cell_type": "markdown",
   "metadata": {},
   "source": [
    "#### If Statements within Lambdas"
   ]
  },
  {
   "cell_type": "code",
   "execution_count": null,
   "metadata": {},
   "outputs": [],
   "source": [
    "#Lambda x : True if (condition) else false\n"
   ]
  },
  {
   "cell_type": "markdown",
   "metadata": {},
   "source": [
    "#### In-Class Exercise #1 <br>\n",
    "<p>Write an anonymous function that cubes the arguments passed in and assign the anonymous function to a variable 'f'.</p>"
   ]
  },
  {
   "cell_type": "code",
   "execution_count": null,
   "metadata": {},
   "outputs": [],
   "source": []
  },
  {
   "cell_type": "code",
   "execution_count": null,
   "metadata": {},
   "outputs": [],
   "source": [
    "#get good at reading Documentation because this is your lifelinealso\n",
    "help(sorted)"
   ]
  },
  {
   "cell_type": "code",
   "execution_count": null,
   "metadata": {},
   "outputs": [],
   "source": [
    "#Using Lambdas with sort to sort a list of dictionary by a key from highest to smallest\n"
   ]
  },
  {
   "cell_type": "code",
   "execution_count": null,
   "metadata": {},
   "outputs": [],
   "source": [
    "from random import randint\n",
    "\n",
    "randint(1,240) #IQ range 1 to 240"
   ]
  },
  {
   "cell_type": "code",
   "execution_count": null,
   "metadata": {},
   "outputs": [],
   "source": [
    "#Using Lamdas with sort to sort a list of dictionary by a key from highest to lowest\n",
    "#List of dictionaries\n",
    "\n",
    "my_class = [\n",
    "    {\"name\":\"Marcus\",\"IQ\":randint(1,240)},\n",
    "    {\"name\":\"Diana\",\"IQ\":randint(1,240)},\n",
    "    {\"name\":\"KevinR\",\"IQ\":randint(1,240)},\n",
    "    {\"name\":\"Connor\",\"IQ\":randint(1,240)},\n",
    "    {\"name\":\"Gulfem\",\"IQ\":randint(1,240)},\n",
    "    {\"name\":\"Marco\",\"IQ\":randint(1,240)},\n",
    "    {\"name\":\"Caleb\",\"IQ\":randint(1,240)},\n",
    "    {\"name\":\"Lizzette\",\"IQ\":randint(1,240)},\n",
    "]\n",
    "print(my_class)\n",
    "print(sorted(my_class, key=lambda student: student[\"IQ'\"]))"
   ]
  },
  {
   "cell_type": "markdown",
   "metadata": {},
   "source": [
    "## Map <br>\n",
    "<p>The map function allows you to iterate over an entire list while running a function on each item of the list. This is why the map function works well with lambda's, because it simplifies things and you write less lines of code.<br>The syntax for a map function is \"map(function to be used, list to be used)\"<br>However, you must be careful, as the map function returns a map object, not a list. To turn it into a list we use the list() type conversion.</p>"
   ]
  },
  {
   "cell_type": "markdown",
   "metadata": {},
   "source": [
    "#### Syntax"
   ]
  },
  {
   "cell_type": "code",
   "execution_count": null,
   "metadata": {
    "scrolled": true
   },
   "outputs": [],
   "source": [
    "# map(func,iterable(list,dict,tuple,set,etc...))\n",
    "# Normally the usage of map happens with a pre-defined function -- but can use lambdas as well\n",
    "help(map)"
   ]
  },
  {
   "cell_type": "code",
   "execution_count": null,
   "metadata": {},
   "outputs": [],
   "source": [
    "def squared(num, num2):\n",
    "    if num < 10 and num2 < 10:\n",
    "        return (num**2, num2**2)\n",
    "    else:\n",
    "        return (num, num2)"
   ]
  },
  {
   "cell_type": "code",
   "execution_count": null,
   "metadata": {},
   "outputs": [],
   "source": [
    "numbers =[4,10,3,2,6]\n",
    "more_nums = [4,1,20,3,15]\n",
    "new_list=[]\n",
    "for i in range(len(numbers)):\n",
    "    new_list.append(squared(numbers[i], more_nums[i]))\n",
    "    \n",
    "print(new_list)"
   ]
  },
  {
   "cell_type": "code",
   "execution_count": null,
   "metadata": {},
   "outputs": [],
   "source": [
    "squared_nums = map(squared, numbers, more_nums)\n",
    "print(squared_nums)\n",
    "print(list(squared_nums))"
   ]
  },
  {
   "cell_type": "markdown",
   "metadata": {},
   "source": [
    "#### Using Lambda's with Map"
   ]
  },
  {
   "cell_type": "code",
   "execution_count": null,
   "metadata": {},
   "outputs": [],
   "source": [
    "# map(Lambda x+2,list)\n",
    "# using Lambda in map happens in line (or in one line)\n",
    "# list(map(lambda x: x*2,nums))\n",
    "\n",
    "numbers = [4,10,3,2,6]\n",
    "squared_nums = list(map((lambda x: x**2 if x<10 else x),numbers))\n",
    "\n",
    "print(squared_nums)"
   ]
  },
  {
   "cell_type": "code",
   "execution_count": null,
   "metadata": {},
   "outputs": [],
   "source": [
    "numbers =[4,10,3,2,6]\n",
    "more_nums = [4,1,20,3,15]\n",
    "\n",
    "squared_nums = list(map((lambda x,y: (x**2, y**2) if x<10 and y<10 else (x,y)), numbers, more_nums))\n",
    "\n",
    "squared_nums"
   ]
  },
  {
   "cell_type": "markdown",
   "metadata": {},
   "source": [
    "#### In-Class Exercise #2 <br>\n",
    "<p>Use the map function to double each number and minus it by one in the list by using a lambda function</p>"
   ]
  },
  {
   "cell_type": "code",
   "execution_count": null,
   "metadata": {},
   "outputs": [],
   "source": [
    "nums = [4,2,6,8]\n",
    "#[7,3,11,15]\n",
    "\n",
    "double_minus1 = list(map(lambda x: x*2 -1, nums))\n",
    "\n",
    "double_minus1"
   ]
  },
  {
   "cell_type": "markdown",
   "metadata": {},
   "source": [
    "## Filter() <br>\n",
    "<p>Filter's are similar to the map function, where you're able to pass a function argument and a list argument and filter out something from the list based on the conditions passed. Similar to the map function, it returns a filter object, so you need to type convert it to a list()</p>"
   ]
  },
  {
   "cell_type": "code",
   "execution_count": null,
   "metadata": {},
   "outputs": [],
   "source": [
    "# what don't want on list"
   ]
  },
  {
   "cell_type": "markdown",
   "metadata": {},
   "source": [
    "#### Syntax"
   ]
  },
  {
   "cell_type": "code",
   "execution_count": null,
   "metadata": {},
   "outputs": [],
   "source": [
    "help(filter)"
   ]
  },
  {
   "cell_type": "code",
   "execution_count": null,
   "metadata": {},
   "outputs": [],
   "source": [
    "bool(\"\")\n"
   ]
  },
  {
   "cell_type": "code",
   "execution_count": null,
   "metadata": {},
   "outputs": [],
   "source": [
    "bool(\" \")"
   ]
  },
  {
   "cell_type": "code",
   "execution_count": null,
   "metadata": {},
   "outputs": [],
   "source": [
    "list(filter(None, [True, True, False, False, '', 'string']))"
   ]
  },
  {
   "cell_type": "markdown",
   "metadata": {},
   "source": [
    "#### Using Lambda's with Filter()"
   ]
  },
  {
   "cell_type": "code",
   "execution_count": null,
   "metadata": {},
   "outputs": [],
   "source": [
    "names = [\"Mario\", \"Gulfem\", \"Marquez\", \"Lizzette\", \"Maria\", \"Connor\", \"Marco\", \"Marcus\"]\n",
    "\n",
    "def m_names(name):\n",
    "    if name[0].lower()=='m':\n",
    "        return True #keep that\n",
    "    else:\n",
    "        return False #don't keep that\n",
    "    \n",
    "new_names_list = list(filter(m_names,names))\n",
    "print(new_names_list)"
   ]
  },
  {
   "cell_type": "code",
   "execution_count": null,
   "metadata": {},
   "outputs": [],
   "source": [
    "new_names_lamb = list(filter(lambda name: True if name[0].lower()=='m' else False, names))\n",
    "new_names_lamb"
   ]
  },
  {
   "cell_type": "markdown",
   "metadata": {},
   "source": [
    "#### In-Class Exercise #3 <br>\n",
    "<p>Filter out all the numbers that are below the mean of the list.<br><b>Hint: Import the 'statistics' module</b></p>"
   ]
  },
  {
   "cell_type": "code",
   "execution_count": null,
   "metadata": {},
   "outputs": [],
   "source": [
    "from statistics import mean\n",
    "nums= [2,7,4.2,1.6,9,4.4,4.9]\n",
    "nums_mean = mean(nums)\n",
    "print(nums_mean)\n",
    "# float_nums = \"{:.2f}\".format(mean_nums)\n",
    "# print(float_nums)\n",
    "\n",
    "below_mean = list(filter(lambda n: True if n<mean(nums) else False, nums))\n",
    "below_mean"
   ]
  },
  {
   "cell_type": "code",
   "execution_count": null,
   "metadata": {},
   "outputs": [],
   "source": [
    "#printing a float with just TWO decimal places\n",
    "\n",
    "float = 2.154327\n",
    "format_float = \"{:.2f}\".format(float)\n",
    "print(format_float)"
   ]
  },
  {
   "cell_type": "code",
   "execution_count": null,
   "metadata": {},
   "outputs": [],
   "source": [
    "# more efficient Diana with mean as 2-point float:\n",
    "from statistics import mean\n",
    "nums = [2,7,4.2,1.6,9,4.4,4.9]\n",
    "nums_mean = mean(nums)\n",
    "format_nums_mean = \"{:.2f}\".format(nums_mean)\n",
    "print(format_nums_mean)\n",
    "\n",
    "below_mean = list(filter(lambda n: True if n<nums_mean else False, nums))\n",
    "below_mean"
   ]
  },
  {
   "cell_type": "code",
   "execution_count": null,
   "metadata": {},
   "outputs": [],
   "source": [
    "#Caleb's more efficient:\n",
    "from statistics import mean\n",
    "nums = [2,7.9,4,2.3,1.5,6,9,4,4.6,4,9]\n",
    "mean_nums = mean(nums)\n",
    "def filtered_list(number):\n",
    "    new_list = list(filter(lambda number: True if number < mean_nums else False, number))\n",
    "    return new_list\n",
    "    \n",
    "print(filtered_list(nums))"
   ]
  },
  {
   "cell_type": "markdown",
   "metadata": {},
   "source": [
    "## Reduce() <br>\n",
    "<p>Be very careful when using this function, as of Python 3 it's been moved to the 'functools' library and no longer is a built-in function.<br>The creator of Python himself, says to just use a for loop instead.</p>"
   ]
  },
  {
   "cell_type": "code",
   "execution_count": null,
   "metadata": {
    "scrolled": true
   },
   "outputs": [],
   "source": [
    "from functools import reduce\n",
    "# reduce(function,iterable)\n",
    "help(reduce)"
   ]
  },
  {
   "cell_type": "code",
   "execution_count": null,
   "metadata": {},
   "outputs": [],
   "source": [
    "list_1 = [2,4,6,8,10]\n",
    "def subtract_nums(num1,num2):\n",
    "    return num1 - num2\n",
    "\n",
    "result = reduce(subtract_nums,list_1)\n",
    "print(result)\n"
   ]
  },
  {
   "cell_type": "code",
   "execution_count": null,
   "metadata": {},
   "outputs": [],
   "source": [
    "2-4-6-8-10"
   ]
  },
  {
   "cell_type": "code",
   "execution_count": null,
   "metadata": {},
   "outputs": [],
   "source": [
    "#What this is doing:\n",
    "2-4 = -2\n",
    "-2 -6 = - 8\n",
    "-8 -8 = -16\n",
    "-16 -10 = -26"
   ]
  },
  {
   "cell_type": "markdown",
   "metadata": {},
   "source": [
    "#### Syntax"
   ]
  },
  {
   "cell_type": "code",
   "execution_count": null,
   "metadata": {},
   "outputs": [],
   "source": [
    "from functools import reduce\n",
    "# reduce(function,iterable)\n",
    "\n"
   ]
  },
  {
   "cell_type": "markdown",
   "metadata": {},
   "source": [
    "#### Using Lambda's with Reduce()"
   ]
  },
  {
   "cell_type": "code",
   "execution_count": null,
   "metadata": {},
   "outputs": [],
   "source": [
    "list_2 = [2, 4, 6, 8, 10]\n",
    "result = reduce(lambda aggregator, current_value: aggregator - current_value, list_2)\n",
    "result"
   ]
  },
  {
   "cell_type": "markdown",
   "metadata": {},
   "source": [
    "#### In-Class Exercise #4 <br>\n",
    "<p>Use the reduce function to multiply the numbers in the list below together with a lambda function.</p>"
   ]
  },
  {
   "cell_type": "code",
   "execution_count": null,
   "metadata": {},
   "outputs": [],
   "source": [
    "test_list = [2, 4, 6, 8, 10]\n",
    "result = reduce(lambda aggregator, current_value: aggregator * current_value, test_list)\n",
    "result"
   ]
  },
  {
   "cell_type": "code",
   "execution_count": null,
   "metadata": {},
   "outputs": [],
   "source": [
    "# What this is doing:\n",
    "2*4 = 8\n",
    "8*6 =48\n",
    "48*8= 384\n",
    "384*10 = 3840"
   ]
  },
  {
   "cell_type": "code",
   "execution_count": null,
   "metadata": {},
   "outputs": [],
   "source": [
    "print(\"*\"*5)"
   ]
  },
  {
   "cell_type": "markdown",
   "metadata": {},
   "source": [
    "## Recursion <br>\n",
    "<p>Recursion means that a function is calling itself, so it contanstly executes until a base case is reached. It will then push the returning values back up the chain until the function is complete. A prime example of recursion is computing factorials... such that 5! (factorial) is 5*4*3*2*1 which equals 120.</p>"
   ]
  },
  {
   "cell_type": "code",
   "execution_count": null,
   "metadata": {},
   "outputs": [],
   "source": [
    "# a function that calls itself"
   ]
  },
  {
   "cell_type": "code",
   "execution_count": null,
   "metadata": {},
   "outputs": [],
   "source": [
    "#*********************Do NOT RUN THIS************************\n",
    "def recursive():\n",
    "    print(\"hi\")\n",
    "    recursive()\n"
   ]
  },
  {
   "cell_type": "code",
   "execution_count": null,
   "metadata": {},
   "outputs": [],
   "source": [
    "def recursive(i):\n",
    "    if i == 4: #base case\n",
    "        return\n",
    "    else:\n",
    "        print(\"hi\")\n",
    "        i+=1\n",
    "        recursive(i)\n",
    "        \n",
    "recursive(0)"
   ]
  },
  {
   "cell_type": "code",
   "execution_count": null,
   "metadata": {},
   "outputs": [],
   "source": [
    "#recursive solutions are generally slow\n",
    "#when to use them takes practice and thinking through"
   ]
  },
  {
   "cell_type": "markdown",
   "metadata": {},
   "source": [
    "#### Implementing a Base Case"
   ]
  },
  {
   "cell_type": "code",
   "execution_count": null,
   "metadata": {},
   "outputs": [],
   "source": [
    "# without SAYING \"recursion\"\n",
    "\n",
    "def add_nums(num):\n",
    "    if num <= 1: #base case\n",
    "        print(\"add_nums(1)=1\") #final\n",
    "        return num\n",
    "    else:\n",
    "        print(f'add_num({num}) = {num} + add_nums({num-1})')\n",
    "        x = num - 1\n",
    "        return num + add_nums(x)\n",
    "    \n",
    "add_nums(5)"
   ]
  },
  {
   "cell_type": "markdown",
   "metadata": {},
   "source": [
    "#### Writing a Factorial Function"
   ]
  },
  {
   "cell_type": "code",
   "execution_count": null,
   "metadata": {},
   "outputs": [],
   "source": [
    "# 5! = 5*4*3*2*1"
   ]
  },
  {
   "cell_type": "markdown",
   "metadata": {},
   "source": [
    "#### In-Class Exercise #5 <br>\n",
    "<p>Write a recursive function that subtracts all numbers to the argument given.</p>"
   ]
  },
  {
   "cell_type": "code",
   "execution_count": null,
   "metadata": {},
   "outputs": [],
   "source": [
    "def factorial(num):\n",
    "    if num <= 1: #base case\n",
    "        print(\"factorial(1)=1\") #final\n",
    "        return num\n",
    "    else:\n",
    "        print(f'factorial({num}) = {num} + factorial({num})')\n",
    "        return num * factorial(num)\n",
    "    \n",
    "factorial(10)"
   ]
  },
  {
   "cell_type": "markdown",
   "metadata": {},
   "source": [
    "## Generators <br>\n",
    "<p>Generators are a type of iterable, like lists or tuples. They do not allow indexing, but they can still be iterated through with for loops. They are created using functions and the yield statement.</p>"
   ]
  },
  {
   "cell_type": "code",
   "execution_count": null,
   "metadata": {},
   "outputs": [],
   "source": [
    "#faster than looping over a list!"
   ]
  },
  {
   "cell_type": "code",
   "execution_count": null,
   "metadata": {},
   "outputs": [],
   "source": [
    "print(list(range(5)))\n",
    "range((5))\n",
    "#range is doing a generator"
   ]
  },
  {
   "cell_type": "code",
   "execution_count": null,
   "metadata": {},
   "outputs": [],
   "source": [
    "def test():\n",
    "    yield 1\n",
    "    yield 2\n",
    "    yield 3\n",
    "    yield 4\n",
    "    yield \"a\"\n",
    "    yield [1,2,3, 4]\n",
    "    yield [\"a\",\"b\",\"c\"]\n",
    "    \n",
    "for i in test():\n",
    "    print(i)"
   ]
  },
  {
   "cell_type": "markdown",
   "metadata": {},
   "source": [
    "#### Yield Keyword <br>\n",
    "<p>The yield keyword denotes a generator, it doesn't return so it won't leave the function and reset all variables in the function scope, instead it yields the number back to the caller.</p>"
   ]
  },
  {
   "cell_type": "code",
   "execution_count": null,
   "metadata": {},
   "outputs": [],
   "source": [
    "def my_range(n):\n",
    "    for i in range(n):\n",
    "        yield i\n",
    "\n",
    "list(my_range(5))"
   ]
  },
  {
   "cell_type": "code",
   "execution_count": null,
   "metadata": {},
   "outputs": [],
   "source": [
    "def my_range(start,stop,step):\n",
    "    while start < stop:\n",
    "        yield start\n",
    "        start += step\n",
    "        \n",
    "list(my_range(2,15,3))"
   ]
  },
  {
   "cell_type": "markdown",
   "metadata": {},
   "source": [
    "#### Infinite Generator"
   ]
  },
  {
   "cell_type": "code",
   "execution_count": null,
   "metadata": {},
   "outputs": [],
   "source": [
    "# bad, never create infinite loops"
   ]
  },
  {
   "cell_type": "code",
   "execution_count": null,
   "metadata": {},
   "outputs": [],
   "source": []
  },
  {
   "cell_type": "markdown",
   "metadata": {},
   "source": [
    "#### In-Class Exercise #6 <br>\n",
    "<p>Create a generator that takes a number argument and yields that number squared, then prints each number squared until zero is reached.</p>"
   ]
  },
  {
   "cell_type": "code",
   "execution_count": null,
   "metadata": {},
   "outputs": [],
   "source": [
    "# def square_range(start,stop,step):\n",
    "\n",
    "def my_range(start,stop,step):\n",
    "    while start < stop:\n",
    "        yield start **2\n",
    "        start += step\n",
    "        \n",
    "list(my_range(2,15,3))"
   ]
  },
  {
   "cell_type": "markdown",
   "metadata": {},
   "source": [
    "# Exercises"
   ]
  },
  {
   "cell_type": "markdown",
   "metadata": {},
   "source": [
    "### Exercise #1 <br>\n",
    "<p>Filter out all of the empty strings from the list below</p>\n",
    "\n",
    "`Output: ['Argentina', 'San Diego', 'Boston', 'New York']`"
   ]
  },
  {
   "cell_type": "code",
   "execution_count": null,
   "metadata": {
    "scrolled": true
   },
   "outputs": [],
   "source": [
    "places = [\" \",\"Argentina\", \" \", \"San Diego\",\"\",\"  \",\"\",\"Boston\",\"New York\"]"
   ]
  },
  {
   "cell_type": "code",
   "execution_count": null,
   "metadata": {},
   "outputs": [],
   "source": [
    "places_lamb = list(filter(lambda p: True if p.strip() else False, places))\n",
    "places_lamb"
   ]
  },
  {
   "cell_type": "code",
   "execution_count": null,
   "metadata": {},
   "outputs": [],
   "source": [
    "# Helpful\n",
    "# : [x for x in strings if x.strip()]\n",
    "# new_names_lamb = list(filter(lambda name: True if name[0].lower()=='m' else False, names))\n",
    "# new_names_lamb"
   ]
  },
  {
   "cell_type": "markdown",
   "metadata": {},
   "source": [
    "### Exercise #2 <br>\n",
    "<p>Write an anonymous function that sorts this list by the last name...<br><b>Hint: Use the \".sort()\" method and access the key\"</b></p>\n",
    "\n",
    "`Output: ['Victor aNisimov', 'Gary A.J. Bernstein', 'Joel Carter', 'Andrew P. Garfield', 'David hassELHOFF']`"
   ]
  },
  {
   "cell_type": "code",
   "execution_count": 2,
   "metadata": {},
   "outputs": [],
   "source": [
    "author = [\"Joel Carter\", \"Victor aNisimov\", \"Andrew P. Garfield\",\"David hassELHOFF\",\"Gary A.J. Bernstein\"]\n"
   ]
  },
  {
   "cell_type": "code",
   "execution_count": 8,
   "metadata": {
    "scrolled": true
   },
   "outputs": [
    {
     "name": "stdout",
     "output_type": "stream",
     "text": [
      "['Victor aNisimov', 'Gary A.J. Bernstein', 'Joel Carter', 'Andrew P. Garfield', 'David hassELHOFF']\n"
     ]
    }
   ],
   "source": [
    "def sorted_names(author):\n",
    "    author.sort(key = lambda n: n.lower().split()[-1]) #sep names & sort by last\n",
    "    return author\n",
    "\n",
    "print(sorted_names(author))"
   ]
  },
  {
   "cell_type": "code",
   "execution_count": null,
   "metadata": {},
   "outputs": [],
   "source": [
    "# Helpful\n",
    "# split(), join() map(function to be used, list to be used) .sort(key= lambda)\n",
    "\n",
    "# .lower()!\n",
    " \n",
    "# last_names = list((lambda n: n for n in author.sort(key=n[-1]), author))\n",
    "# last_names"
   ]
  },
  {
   "cell_type": "code",
   "execution_count": null,
   "metadata": {
    "scrolled": true
   },
   "outputs": [],
   "source": [
    "\"a\"< \"A\""
   ]
  },
  {
   "cell_type": "code",
   "execution_count": null,
   "metadata": {},
   "outputs": [],
   "source": [
    "ord(\"a\")"
   ]
  },
  {
   "cell_type": "code",
   "execution_count": null,
   "metadata": {},
   "outputs": [],
   "source": [
    "ord(\"A\")"
   ]
  },
  {
   "cell_type": "markdown",
   "metadata": {},
   "source": [
    "### Exercise #3 <br>\n",
    "<p>Convert the list below from Celsius to Farhenheit, using the map function with a lambda...</p>\n",
    "\n",
    "`Output: [('Nashua', 89.6), ('Boston', 53.6), ('Los Angelos', 111.2), ('Miami', 84.2)]\n",
    "`"
   ]
  },
  {
   "cell_type": "code",
   "execution_count": 10,
   "metadata": {
    "scrolled": true
   },
   "outputs": [],
   "source": [
    "places = [('Nashua',32),(\"Boston\",12),(\"Los Angelos\",44),(\"Miami\",29)]"
   ]
  },
  {
   "cell_type": "code",
   "execution_count": 18,
   "metadata": {},
   "outputs": [
    {
     "ename": "TypeError",
     "evalue": "float() argument must be a string or a number, not 'list'",
     "output_type": "error",
     "traceback": [
      "\u001b[1;31m---------------------------------------------------------------------------\u001b[0m",
      "\u001b[1;31mTypeError\u001b[0m                                 Traceback (most recent call last)",
      "Input \u001b[1;32mIn [18]\u001b[0m, in \u001b[0;36m<cell line: 3>\u001b[1;34m()\u001b[0m\n\u001b[0;32m      1\u001b[0m \u001b[38;5;66;03m# F = (9/5)*C + 32\u001b[39;00m\n\u001b[1;32m----> 3\u001b[0m c_to_f \u001b[38;5;241m=\u001b[39m \u001b[38;5;28;43mlist\u001b[39;49m\u001b[43m(\u001b[49m\u001b[38;5;28;43mmap\u001b[39;49m\u001b[43m(\u001b[49m\u001b[43m(\u001b[49m\u001b[38;5;28;43;01mlambda\u001b[39;49;00m\u001b[43m \u001b[49m\u001b[43mx\u001b[49m\u001b[43m:\u001b[49m\u001b[43m \u001b[49m\u001b[38;5;241;43m1.8\u001b[39;49m\u001b[38;5;241;43m*\u001b[39;49m\u001b[38;5;28;43mfloat\u001b[39;49m\u001b[43m(\u001b[49m\u001b[43m[\u001b[49m\u001b[38;5;241;43m1\u001b[39;49m\u001b[43m]\u001b[49m\u001b[43m)\u001b[49m\u001b[38;5;241;43m+\u001b[39;49m\u001b[38;5;241;43m32\u001b[39;49m\u001b[43m)\u001b[49m\u001b[43m,\u001b[49m\u001b[43m \u001b[49m\u001b[43m(\u001b[49m\u001b[43mplaces\u001b[49m\u001b[43m)\u001b[49m\u001b[43m)\u001b[49m\u001b[43m)\u001b[49m\n\u001b[0;32m      5\u001b[0m \u001b[38;5;28mprint\u001b[39m(c_to_f)\n",
      "Input \u001b[1;32mIn [18]\u001b[0m, in \u001b[0;36m<lambda>\u001b[1;34m(x)\u001b[0m\n\u001b[0;32m      1\u001b[0m \u001b[38;5;66;03m# F = (9/5)*C + 32\u001b[39;00m\n\u001b[1;32m----> 3\u001b[0m c_to_f \u001b[38;5;241m=\u001b[39m \u001b[38;5;28mlist\u001b[39m(\u001b[38;5;28mmap\u001b[39m((\u001b[38;5;28;01mlambda\u001b[39;00m x: \u001b[38;5;241m1.8\u001b[39m\u001b[38;5;241m*\u001b[39m\u001b[38;5;28;43mfloat\u001b[39;49m\u001b[43m(\u001b[49m\u001b[43m[\u001b[49m\u001b[38;5;241;43m1\u001b[39;49m\u001b[43m]\u001b[49m\u001b[43m)\u001b[49m\u001b[38;5;241m+\u001b[39m\u001b[38;5;241m32\u001b[39m), (places)))\n\u001b[0;32m      5\u001b[0m \u001b[38;5;28mprint\u001b[39m(c_to_f)\n",
      "\u001b[1;31mTypeError\u001b[0m: float() argument must be a string or a number, not 'list'"
     ]
    }
   ],
   "source": [
    "# F = (9/5)*C + 32\n",
    "\n",
    "c_to_f = list(map((lambda x: 1.8*float([1])+32), (places)))\n",
    "\n",
    "print(c_to_f)"
   ]
  },
  {
   "cell_type": "code",
   "execution_count": null,
   "metadata": {},
   "outputs": [],
   "source": [
    "# Helpful\n",
    "# squared_nums = list(map((lambda x: x**2 if x<10 else x),numbers))\n",
    "\n",
    "# print(squared_nums)"
   ]
  },
  {
   "cell_type": "markdown",
   "metadata": {},
   "source": []
  },
  {
   "cell_type": "code",
   "execution_count": null,
   "metadata": {
    "scrolled": false
   },
   "outputs": [],
   "source": []
  },
  {
   "cell_type": "code",
   "execution_count": null,
   "metadata": {},
   "outputs": [],
   "source": []
  },
  {
   "cell_type": "code",
   "execution_count": null,
   "metadata": {},
   "outputs": [],
   "source": []
  },
  {
   "cell_type": "code",
   "execution_count": null,
   "metadata": {},
   "outputs": [],
   "source": []
  },
  {
   "cell_type": "code",
   "execution_count": null,
   "metadata": {},
   "outputs": [],
   "source": []
  }
 ],
 "metadata": {
  "kernelspec": {
   "display_name": "Python 3 (ipykernel)",
   "language": "python",
   "name": "python3"
  },
  "language_info": {
   "codemirror_mode": {
    "name": "ipython",
    "version": 3
   },
   "file_extension": ".py",
   "mimetype": "text/x-python",
   "name": "python",
   "nbconvert_exporter": "python",
   "pygments_lexer": "ipython3",
   "version": "3.9.12"
  }
 },
 "nbformat": 4,
 "nbformat_minor": 2
}
